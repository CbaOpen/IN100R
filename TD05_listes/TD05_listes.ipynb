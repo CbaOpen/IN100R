{
 "cells": [
  {
   "cell_type": "markdown",
   "metadata": {},
   "source": [
    "---\n",
    "\n",
    "## Les listes"
   ]
  },
  {
   "cell_type": "markdown",
   "metadata": {},
   "source": [
    "**Exercice 1:** *Prise en main des listes*\n",
    "\n",
    "1) Créer la liste `5, 7, 11`, l'affecter à une variable, puis l'afficher."
   ]
  },
  {
   "cell_type": "code",
   "execution_count": null,
   "metadata": {},
   "outputs": [],
   "source": [
    "a=2"
   ]
  },
  {
   "cell_type": "markdown",
   "metadata": {},
   "source": [
    "2. Ajouter ensuite 13 et 17 à la fin puis afficher à nouveau la liste."
   ]
  },
  {
   "cell_type": "code",
   "execution_count": null,
   "metadata": {},
   "outputs": [],
   "source": []
  },
  {
   "cell_type": "markdown",
   "metadata": {},
   "source": [
    "3. Changer le 7 en -7."
   ]
  },
  {
   "cell_type": "code",
   "execution_count": null,
   "metadata": {},
   "outputs": [],
   "source": []
  },
  {
   "cell_type": "markdown",
   "metadata": {},
   "source": [
    "4. Avec une boucle `for`, écrire le triple de chaque élément de la liste. Cela doit afficher `[15, -21, 33, 39, 51]`. La liste doit être modifiée."
   ]
  },
  {
   "cell_type": "code",
   "execution_count": null,
   "metadata": {},
   "outputs": [],
   "source": []
  },
  {
   "cell_type": "markdown",
   "metadata": {},
   "source": [
    "5. A l'aide d'une boucle `for`, ajouter  la valeur `i` à l'élément d'indice `i` de la liste. Cela doit afficher `[15, -20, 35, 42, 55]`. La liste doit être modifiée."
   ]
  },
  {
   "cell_type": "code",
   "execution_count": null,
   "metadata": {},
   "outputs": [],
   "source": []
  },
  {
   "cell_type": "markdown",
   "metadata": {},
   "source": [
    "6. Tirer 10 nombres entre 0 et 99 au hasard et les mettre dans une nouvelle liste (vide au départ). "
   ]
  },
  {
   "cell_type": "code",
   "execution_count": null,
   "metadata": {},
   "outputs": [],
   "source": []
  },
  {
   "cell_type": "markdown",
   "metadata": {},
   "source": [
    "7. Supprimez les doublons de la liste."
   ]
  },
  {
   "cell_type": "code",
   "execution_count": null,
   "metadata": {},
   "outputs": [],
   "source": []
  },
  {
   "cell_type": "markdown",
   "metadata": {},
   "source": [
    "8. Puis afficher la somme des entiers de la liste et le plus grand de ces entiers."
   ]
  },
  {
   "cell_type": "code",
   "execution_count": null,
   "metadata": {},
   "outputs": [],
   "source": []
  },
  {
   "cell_type": "markdown",
   "metadata": {},
   "source": [
    "9. Supprimez le plus grand et le plus petit entier de la liste."
   ]
  },
  {
   "cell_type": "code",
   "execution_count": null,
   "metadata": {},
   "outputs": [],
   "source": []
  },
  {
   "cell_type": "markdown",
   "metadata": {},
   "source": [
    "**Exercice 2:** *Table de multiplication*\n",
    "\n",
    "1) Affichez la table des 8 en une seule commande avec les instructions range() et list().\n",
    "2) Créez une fonction `table_de_n(n)` qui prend en entrée un entier `n` et renvoie une liste contenant la table de `n`.\n",
    "3) Afficher les tables des entiers de 1 à 12. \n"
   ]
  },
  {
   "cell_type": "code",
   "execution_count": null,
   "metadata": {},
   "outputs": [],
   "source": []
  },
  {
   "cell_type": "markdown",
   "metadata": {},
   "source": [
    "**Exercice 3:** *Tri de liste*\n",
    "\n",
    "Soit la liste de nombres [8, 3, 12.5, 45, 25.5, 52, 1]. Triez les nombres de cette liste par ordre croissant, sans utiliser la fonction sort() (les fonctions/méthodes min(), append() et remove() vous seront utiles).\n"
   ]
  },
  {
   "cell_type": "code",
   "execution_count": null,
   "metadata": {},
   "outputs": [],
   "source": []
  },
  {
   "cell_type": "markdown",
   "metadata": {},
   "source": [
    "**Exercice 4:** *Jours de la semaine*\n",
    "\n",
    "Constituez une liste semaine contenant les 7 jours de la semaine.\n",
    "1) À partir de cette liste, comment récupérez-vous seulement les 5 premiers jours de la semaine\n",
    "d’une part, et ceux du week-end d’autre part (utilisez pour cela l’indiçage) ?\n",
    "2) Cherchez un autre moyen pour arriver au même résultat (en utilisant un autre indiçage).\n",
    "3) Trouvez deux manières pour accéder au dernier jour de la semaine.\n",
    "4) Inversez les jours de la semaine en une commande."
   ]
  },
  {
   "cell_type": "code",
   "execution_count": null,
   "metadata": {},
   "outputs": [],
   "source": []
  },
  {
   "cell_type": "markdown",
   "metadata": {},
   "source": [
    "**Exercice 5:** *Les saisons*\n",
    "\n",
    "Créez 4 listes `hiver`, `printemps`, `ete` et `automne` contenant les mois correspondants à ces saisons.\n",
    "\n",
    "Créez ensuite une liste `saisons` contenant les **sous-listes** `hiver`, `printemps`, `ete` et `automne`. \n",
    "\n",
    "Prévoyez ce que valent les variables suivantes, puis vérifiez-le dans l’interpréteur :\n",
    "1) saisons[2]\n",
    "2) saisons[1][0]\n",
    "3) saisons[1:2]\n",
    "4) saisons[:][1]. Comment expliquez-vous ce dernier résultat ?"
   ]
  },
  {
   "cell_type": "code",
   "execution_count": null,
   "metadata": {},
   "outputs": [],
   "source": []
  },
  {
   "cell_type": "markdown",
   "metadata": {},
   "source": [
    "**Exercice 6:** *The password game*\n",
    "\n",
    "On souhaite implémenter une version très simplifiée du [password game](https://thepasswordgame.com). On propose pour commencer d'utiliser uniquement 5 règles :\n",
    "* *regle 1:* \"Votre mot de passe doit contenir 5 caractères\"\n",
    "* *regle 2:* \"Votre mot de passe doit inclure un chiffre\"\n",
    "* *regle 3:* \"Votre mot de passe doit contenir une lettre majuscule\"\n",
    "* *regle 4:* \"Votre mot de passe doit contenir le nom d'un(e) streameur(e) préféré(e) de votre prof parmi [\"AntoineDaniel\", \"MisterMV\", \"BagheraJones\", \"OPCrotte\", \"IciJaponCorp\", \"Horty\"]\"\n",
    "* *regle 5:* \"La somme des chiffres de votre mot de passe doit être de 20\"\n",
    "\n",
    "\n",
    "Implémentation du jeu :\n",
    "1) Initialisation : demandez à l'utilisateur un mot de passe quelconque. Il sera retenu dans une variable qu'on pourra appeler `mdp` et qui sera amenée à être modifiée par la suite. Affichez le mot de passe choisi \"Votre mot de passe est {mdp}\".\n",
    "2) Créez une fonction `test_regle1(mdp)` qui teste la règle 1 et renvoie `True` ou `False`.\n",
    "3) Ecrivez le code qui demande un nouveau mot de passe à l'utilisateur tant que la règle 1 est fausse. On affichera \"ERREUR : Votre mot de passe doit contenir 5 caractères\" lorsque le test est faux et \"VALIDE : Votre mot de passe doit contenir 5 caractères\" si le test est vrai. On affichera également \"Votre mot de passe est {mdp}\" juste après que l'utilisateur rentre un nouveau mot de passe. \n",
    "4) Créez une fonction `test_regle2(mdp)` qui teste la règle 2 et renvoie `True` ou `False`.\n",
    "5) Adaptez le programme principal pour rajouter ce nouveau test dans la boucle. On ne veut pas tester cette règle tant que la précédente n'est pas validée (on pourra utiliser `continue` au bon endroit pour éviter l'exécution d'une partie du corps de la boucle dans certain cas). On affichera \"ERREUR : Votre mot de passe doit inclure un chiffre\" lorsque le test est faux et \"VALIDE : Votre mot de passe doit inclure un chiffre\" si le test est vrai.\n",
    "6) Faites la même chose pour les autres règles. Il faut obligatoirement avoir les tests précédent une règle validés pour pouvoir effectuer la suivante.\n",
    "\n",
    "*note 1: il faut évidemment retester à chaque fois les différentes règles car en modifiant le mot de passe, l'utilisateur peut invalider une des régles précédentes*\n",
    "\n",
    "*note 2: pour la règle 2, on peut utiliser la méthode `my_char.isdigit()` pour tester si la variable string `my_char` est composée de chiffres uniquement.*\n",
    "\n",
    "*note 3 : rappel, on accède au caractère à la position i d'une chaine de caractères `ma_chaine` par `ma_chaine[i]`.*\n",
    "\n",
    "*note 4: vous pouvez utiliser un bloc \"code\" par fonction et les tester indépendamment sans être dans la boucle du programme principal du jeu*"
   ]
  },
  {
   "cell_type": "code",
   "execution_count": null,
   "metadata": {},
   "outputs": [],
   "source": []
  },
  {
   "cell_type": "code",
   "execution_count": null,
   "metadata": {},
   "outputs": [],
   "source": []
  },
  {
   "cell_type": "markdown",
   "metadata": {},
   "source": [
    "**BONUS Exercice 7 :** *Toujours plus loin, toujours plus haut, toujours plus fort !*\n",
    "\n",
    "A Fort Boyard, le père Fouras nous pose l’énigme suivante :\n",
    "\n",
    "*Pour ouvrir le coffre où se trouve la clé, trouve la combinaison à trois chiffres sachant que :*\n",
    "* *Le nombre est inférieur à 200.*\n",
    "* *Deux de ses chiffres sont identiques.*\n",
    "* *La somme de ses chiffres est égale à 4.*\n",
    "* *C’est un nombre impair.*\n",
    "\n",
    "On se propose d’utiliser une méthode dite brute force, c’est à dire d’utiliser une boucle et à chaque itération on teste les 4 conditions. \n",
    "\n",
    "Avez-vous réussi à trouver la même solution en raisonnant ?"
   ]
  },
  {
   "cell_type": "code",
   "execution_count": null,
   "metadata": {},
   "outputs": [],
   "source": []
  }
 ],
 "metadata": {
  "kernelspec": {
   "display_name": "Python 3",
   "language": "python",
   "name": "python3"
  },
  "language_info": {
   "codemirror_mode": {
    "name": "ipython",
    "version": 3
   },
   "file_extension": ".py",
   "mimetype": "text/x-python",
   "name": "python",
   "nbconvert_exporter": "python",
   "pygments_lexer": "ipython3",
   "version": "3.9.1"
  }
 },
 "nbformat": 4,
 "nbformat_minor": 2
}
