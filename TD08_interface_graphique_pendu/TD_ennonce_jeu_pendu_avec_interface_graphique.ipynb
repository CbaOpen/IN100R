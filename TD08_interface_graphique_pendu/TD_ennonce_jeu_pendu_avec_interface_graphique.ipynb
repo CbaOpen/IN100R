{
 "cells": [
  {
   "cell_type": "markdown",
   "metadata": {},
   "source": [
    "# TD 8: Interface graphique - jeu du pendu"
   ]
  },
  {
   "cell_type": "markdown",
   "metadata": {},
   "source": [
    "Le fichier sur lequel travailler est `jeu_pendu_tkinter.py`"
   ]
  },
  {
   "cell_type": "markdown",
   "metadata": {},
   "source": [
    "Le but de ce TD est avant tout de s'amuser avec l'interface graphique. La structure du programme du jeu a été un peu modifiée par rapport au TD 6.\n",
    "\n",
    "Les deux images suivantes montre le résultat final basique attendu :\n",
    "* zone de dessin où sera affiché le visuel du pendu et le mot caché\n",
    "* deux boutons à droite pour lancer une nouvelle partie ou quitter le jeu\n",
    "* l'info sur le nombre de vies et les lettres utilisées en dessous du canvas\n",
    "* une zone où le joueur peut donner une lettre\n",
    "\n",
    "![](visuel_gagne.png)\n",
    "![](visuel_perdu.png)"
   ]
  },
  {
   "cell_type": "markdown",
   "metadata": {},
   "source": [
    "**Etape 1**\n",
    "\n",
    "Compléter le main du programme (à la fin du fichier) qui permet de créer l'interface graphique et de lier les boutons à leur fonction respective.\n",
    "\n",
    "**Etape 2**\n",
    "\n",
    "Dans la fonction `test_nouvelle_lettre` completer l'affichage du message lorsque le joueur gagne ou perd.\n",
    "\n",
    "**Etape 3**\n",
    "\n",
    "Compléter toutes les fonctions qui permettent de dessiner le pendu. L'image suivante donne les principaux points afin de faciliter les calculs de coordonnées. (dx et dy sont définies au début du programme, avec CANVAS_WIDTH et CANVAS_HEIGHT). Rappel : l'origine sur le canvas est en haut à gauche.\n",
    "* P1 = (CANVAS_WIDTH / 3 - dx * 2, CANVAS_HEIGHT * 3/4 + dy * 4)\n",
    "* P2 = (CANVAS_WIDTH / 3 + dx * 2, CANVAS_HEIGHT * 3/4 + dy * 4)\n",
    "* P3 = (CANVAS_WIDTH / 3, CANVAS_HEIGHT * 3/4 + dy * 4)\n",
    "* P4 = (CANVAS_WIDTH / 3, CANVAS_HEIGHT / 4)\n",
    "* P5 = (CANVAS_WIDTH / 3, CANVAS_HEIGHT / 4 + dy * 2)\n",
    "* P6 = (CANVAS_WIDTH / 3 + dx * 2, CANVAS_HEIGHT / 4)\n",
    "* P7 = (CANVAS_WIDTH * 2/3, CANVAS_HEIGHT / 4)\n",
    "* P8 = (CANVAS_WIDTH * 2/3, CANVAS_HEIGHT / 4 + dy * 2)\n",
    "* P9 = (CANVAS_WIDTH * 2/3, CANVAS_HEIGHT / 4 + dy * 4)\n",
    "* P10, P11, P12, P13, P14 = ... je laisse vos petites cellules grises les définir (ça peut être à l'arrache)\n",
    "\n",
    "![](points_pendu.png)"
   ]
  },
  {
   "cell_type": "markdown",
   "metadata": {},
   "source": [
    "**Etape 4**\n",
    "\n",
    "Je vous laisse pimper ce petit programme pour y rajouter votre petite touche personnelle (à votre convenance et votre imagination)\n",
    "\n",
    "*(faites moi du grand art)*"
   ]
  }
 ],
 "metadata": {
  "kernelspec": {
   "display_name": "Python 3",
   "language": "python",
   "name": "python3"
  },
  "language_info": {
   "name": "python",
   "version": "3.9.1"
  }
 },
 "nbformat": 4,
 "nbformat_minor": 2
}
