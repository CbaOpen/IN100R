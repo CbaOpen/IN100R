{
 "cells": [
  {
   "cell_type": "markdown",
   "metadata": {},
   "source": [
    "---\n",
    "\n",
    "## 1. Les structures itératives"
   ]
  },
  {
   "cell_type": "markdown",
   "metadata": {},
   "source": [
    "**Exercice 1:** *Je vous crois*\n",
    "\n",
    "Soit la liste `animaux_aquatiques_nocturnes=[\"WQT\", \"ZZZ\", \"FFFIFU\", \"TXTXTX\"]`. ([La ref](https://www.youtube.com/watch?v=MN_5O4mlR1w))\n",
    "\n",
    "Affichez l’ensemble des éléments de cette liste (un\n",
    "élément par ligne) de trois manières différentes (deux avec for et une avec while).\n",
    "\n",
    "*indice 1 : on accède à l'élément `i` de la liste par `ma_liste[i]`*\n",
    "\n",
    "*indice 2 : fonction `range(deb, fin, pas(optionnel))`*\n",
    "\n",
    "*indice 3 : `for elem in ma_liste`*\n",
    "\n",
    "*indice 4 : nombre total d'élements dans une liste `len(ma_liste)`*"
   ]
  },
  {
   "cell_type": "code",
   "execution_count": null,
   "metadata": {},
   "outputs": [],
   "source": []
  },
  {
   "cell_type": "code",
   "execution_count": null,
   "metadata": {},
   "outputs": [],
   "source": []
  },
  {
   "cell_type": "code",
   "execution_count": null,
   "metadata": {},
   "outputs": [],
   "source": []
  },
  {
   "cell_type": "markdown",
   "metadata": {},
   "source": [
    "**Exercice 2:** *Un peu de bio...*\n",
    "\n",
    "La liste ci-dessous représente la séquence d’un brin d’ADN : `brin=[\"A\",\"C\",\"G\",\"T\",\"T\",\"A\",\"G\",\"C\",\"T\",\"A\",\"A\",\"C\",\"G\"]`\n",
    "\n",
    "Écrivez un script qui transforme cette séquence en sa séquence complémentaire.\n",
    "\n",
    "*Rappel : la séquence complémentaire s’obtient en remplaçant A par T, T par A, C par G et G par C.*"
   ]
  },
  {
   "cell_type": "code",
   "execution_count": null,
   "metadata": {},
   "outputs": [],
   "source": []
  },
  {
   "cell_type": "markdown",
   "metadata": {},
   "source": [
    "**Exercice 3:** *Dessine moi un triangle !*\n",
    "\n",
    "Créez un script qui dessine un triangle comme celui-ci :\n",
    "\n",
    "```\n",
    "*\n",
    "**\n",
    "***\n",
    "****\n",
    "*****\n",
    "******\n",
    "*******\n",
    "********\n",
    "*********\n",
    "**********\n",
    "```\n"
   ]
  },
  {
   "cell_type": "code",
   "execution_count": null,
   "metadata": {},
   "outputs": [],
   "source": []
  },
  {
   "cell_type": "markdown",
   "metadata": {},
   "source": [
    "**Exercice 4:** *Dessine moi un triangle 2 !*\n",
    "\n",
    "Créez un script qui dessine un triangle comme celui-ci :\n",
    "\n",
    "```\n",
    "**********\n",
    "*********\n",
    "********\n",
    "*******\n",
    "******\n",
    "*****\n",
    "****\n",
    "***\n",
    "**\n",
    "*\n",
    "```"
   ]
  },
  {
   "cell_type": "code",
   "execution_count": null,
   "metadata": {},
   "outputs": [],
   "source": []
  },
  {
   "cell_type": "markdown",
   "metadata": {},
   "source": [
    "**Exercice 5:** *Trouve le nombre ! (étape finale !)*\n",
    "\n",
    "Au dernier TD on créer un script qui permet d'obtenir un nombre aléatoir en 1 et `x` (`x` étant donné par l'utilisateur) puis on a demandé à l'utilisateur d'essayer de deviner le nombre aléatoir. Ces étapes sont rappelés ci-dessous (1 à 5).\n",
    "\n",
    "On veut implémenter un jeu où il faut trouver un nombre entier choisi au hasard par l'ordinateur entre 1 et *x*. On veut que *x* soit donné par l'utilisateur.\n",
    "1. Demander à l'utilisateur un nombre entier et stocker cet entier dans une variable `x`. (attention à bien convertir en entier)\n",
    "2. Importer le package \"random\" avec `import random` (en général on met les `import` au tout début du code pour avoir une meilleure visibilité sur l'algorithme)\n",
    "3. La fonction `random.randint(a, b)` renvoie un nombre entier au hasard, compris entre *a* et *b*. Stocker dans une variable `random_nb` un nombre pris au hasard entre *1* et *x*.\n",
    "4. Demander à l'utilisateur un nombre entier compris entre *1* et *x* et stocker dans une variable `essai`. (attention à bien convertir en entier)\n",
    "5. Ecrire le code qui écrit :\n",
    "    * \"Bravo tu as trouvé !\" si `essai == random_nb`\n",
    "    * \"Trop petit. Désolé essaye encore !\" si `essai < random_nb`\n",
    "    * \"Trop grand. Désolé essaye encore !\" si `essai > random_nb`\n",
    "\n",
    "**Etape finale** Maintenant on veut continuer ce script de sorte que l'utilisateur doit pouvoir donner des nombres jusqu'à trouver le nombre aléatoir. A l'aide d'une boucle `while`, modifiez les étapes 4 et 5 pour que le programme demande un nombre entier `essai` compris entre *1* et *x* tant que `essai` est plus petit ou plus grand que `random_nb` (le programme doit toujours afficher \"Trop petit. Désolé essaye encore !\" ou \"Trop grand. Désolé essaye encore !\"). S'il est égal, le programme sort de la boucle `while` et affiche \"Bravo tu as trouvé !\".\n",
    "\n",
    "**Etape bonus :** Ajouter une boucle while autour du programme principal afin de jouer autant de fois que l'utilisateur a envie. A chaque partie, un nouveau nombre aléatoir est tiré."
   ]
  },
  {
   "cell_type": "code",
   "execution_count": null,
   "metadata": {},
   "outputs": [],
   "source": []
  },
  {
   "cell_type": "markdown",
   "metadata": {},
   "source": [
    "**Exercice 6:** *Saut de puce !*\n",
    "\n",
    "On imagine une puce qui se déplace aléatoirement sur une ligne, en avant ou en arrière, par pas de 1 ou -1. Par exemple, si elle est à l’emplacement 0, elle peut sauter à l’emplacement 1 ou -1 ; si elle est à l’emplacement 2, elle peut sauter à l’emplacement 3 ou 1, etc. \n",
    "\n",
    "Avec une boucle while, simuler le mouvement de cette puce de l’emplacement initial 0 à l’emplacement final 5. \n",
    "\n",
    "Combien de sauts sont nécessaires pour réaliser ce parcours ? Relancez plusieurs fois le programme. Trouvez-vous le même nombre de sauts à chaque exécution ? \n",
    "\n",
    "*Conseil : vous utiliserez l’instruction `random.choice([-1,1])` qui renvoie au hasard les valeurs -1 ou 1 avec la même probabilité. Avant d’utiliser cette instruction vous mettrez au tout début de votre script la ligne `import random`*"
   ]
  },
  {
   "cell_type": "code",
   "execution_count": null,
   "metadata": {},
   "outputs": [],
   "source": []
  },
  {
   "cell_type": "markdown",
   "metadata": {},
   "source": [
    "**Exercice 7:** *Dessine moi un triangle ! 3*\n",
    "\n",
    "Créez un script qui dessine un triangle comme celui-ci :\n",
    "\n",
    "```\n",
    "         *\n",
    "        **\n",
    "       ***\n",
    "      ****\n",
    "     *****\n",
    "    ******\n",
    "   *******\n",
    "  ********\n",
    " *********\n",
    "**********\n",
    "```"
   ]
  },
  {
   "cell_type": "code",
   "execution_count": null,
   "metadata": {},
   "outputs": [],
   "source": []
  },
  {
   "cell_type": "markdown",
   "metadata": {},
   "source": [
    "**Exercice 8:** *Dessine moi un triangle ! 4*\n",
    "\n",
    "Créez un script qui dessine un triangle comme celui-ci :\n",
    "\n",
    "```\n",
    "         *\n",
    "        ***\n",
    "       *****\n",
    "      *******\n",
    "     *********\n",
    "    ***********\n",
    "   *************\n",
    "  ***************\n",
    " *****************\n",
    "*******************\n",
    "```\n",
    "\n",
    "Modifiez le code pour que le programme demande à l'utilisateur le nombre de lignes de la pyramide. "
   ]
  },
  {
   "cell_type": "code",
   "execution_count": null,
   "metadata": {},
   "outputs": [],
   "source": []
  }
 ],
 "metadata": {
  "kernelspec": {
   "display_name": "Python 3",
   "language": "python",
   "name": "python3"
  },
  "language_info": {
   "codemirror_mode": {
    "name": "ipython",
    "version": 3
   },
   "file_extension": ".py",
   "mimetype": "text/x-python",
   "name": "python",
   "nbconvert_exporter": "python",
   "pygments_lexer": "ipython3",
   "version": "3.9.1"
  }
 },
 "nbformat": 4,
 "nbformat_minor": 2
}
