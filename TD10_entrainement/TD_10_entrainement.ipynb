{
 "cells": [
  {
   "cell_type": "markdown",
   "metadata": {},
   "source": [
    "# TD 10 : entrainement"
   ]
  },
  {
   "cell_type": "markdown",
   "metadata": {},
   "source": [
    "**Exercice 1 : Entiers consécutifs croissants**\n",
    "\n",
    "Définir une fonction prenant en paramètre un tableau d’entiers et retournant True si le tableau contient suite croissante d’entiers consécutifs et False sinon. Par exemple, la fonction doit retourner `True` si elle est appelée avec le tableau `[54, 55, 56, 57]` et `False` si elle est appelée avec le tableau `[32, 31, 30, 29]` ou `[32, 41, 50, 67]`."
   ]
  },
  {
   "cell_type": "code",
   "execution_count": null,
   "metadata": {},
   "outputs": [],
   "source": []
  },
  {
   "cell_type": "markdown",
   "metadata": {},
   "source": [
    "**Exercice 2 : Dé de 6**\n",
    "\n",
    "On souhaite simuler les lancers de dé d’un joueur. Celui-ci doit lancer un dé jusqu’à ce qu’il obtienne un 6 avec le dé. Écrire un programme simulant les lancers de dés et stockant dans un tableau les différentes valeurs de dés obtenues. Par exemple, si le joueur effectue les lancers : 2, 4, 3, 4, 3, 1, 6, alors le programme doit construire le tableau `[2, 4, 3, 4, 3, 1, 6]`. \n",
    "\n",
    "Rappel : L’instruction `randint(1, 6)` retourne un nombre aléatoire entre 1 et 6. Elle simule le lancer d’un dé."
   ]
  },
  {
   "cell_type": "code",
   "execution_count": null,
   "metadata": {},
   "outputs": [],
   "source": []
  },
  {
   "cell_type": "markdown",
   "metadata": {},
   "source": [
    "**Exercice 3 : Sommes partielles des éléments d’un tableau**\n",
    "\n",
    "Écrire une fonction `sommeInd(tab)` qui affiche la somme des éléments d’indice pair et celle des éléments d’indice impair d’un tableau `tab` d’entiers passé en paramètre."
   ]
  },
  {
   "cell_type": "code",
   "execution_count": null,
   "metadata": {},
   "outputs": [],
   "source": []
  }
 ],
 "metadata": {
  "kernelspec": {
   "display_name": "Python 3",
   "language": "python",
   "name": "python3"
  },
  "language_info": {
   "name": "python",
   "version": "3.9.1"
  }
 },
 "nbformat": 4,
 "nbformat_minor": 2
}
