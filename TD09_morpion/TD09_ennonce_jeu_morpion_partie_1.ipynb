{
 "cells": [
  {
   "cell_type": "markdown",
   "metadata": {},
   "source": [
    "# TD 9: Morpion partie 1"
   ]
  },
  {
   "cell_type": "markdown",
   "metadata": {},
   "source": [
    "Dans ce TD et le suivant, nous allons programmer un morpion avec interface graphique.\n",
    "\n",
    "Le jeu sera à programmer dans le fichier `morpion.py`.\n",
    "\n",
    "Cette première partie va se concentrer sur l'interface graphique du jeu et la 2e partie sera sur la gestion d'une partie."
   ]
  },
  {
   "cell_type": "markdown",
   "metadata": {},
   "source": [
    "**Etape 1 : initialisation de l'interface graphique**\n",
    "\n",
    "Dans la partie main du programme :\n",
    "* Créer une fenetre graphique avec un titre \"Morpion\" (voir le programme sur le jeu du pendu pour savoir comment changer le titre d'une fenetre)\n",
    "* Creer un Canvas de largeur `CANVAS_WIDTH=600` et de hauteur `CANVAS_HEIGTH=600`.\n",
    "* Créer 2 boutons : `Nouvelle partie` et `Quitter`\n",
    "* Placer ces 3 widgets à l'aide de la fonction point `nom_widget.grid(row= , column=).\n",
    "* Ne pas oublier l'appel à la fonction `mainloop()` sur la fenetre graphique.\n",
    "* Tester ce début de programme.\n"
   ]
  },
  {
   "cell_type": "markdown",
   "metadata": {},
   "source": [
    "**Etape 2 : creation d'une partie et initialisation du plateau de jeu**\n",
    "\n",
    "* Creer trois variables globales `plateau=[]`, `symbol=\"\"`, `gagne=False` tout en haut du fichier, juste après les imports.\n",
    "* Creer une fonction `nouveau_morpion()`\n",
    "* Dans la fonction, ajouter au début `global plateau, symbol, gagne`\n",
    "* initialiser les variables `plateau=init_plateau()`, `symbol=\"O\"`, `gagne=False`\n",
    "* Ajouter l'appel à une fonction `creer_grille_gui()` qu'on va creer juste après.\n",
    "* Creer la fonction `init_plateau()` dans laquelle on crée une variable `grille=[[\" \", \" \", \" \"],[\" \", \" \", \" \"],[\" \", \" \", \" \"]]` une grille vide en 2D qui représentera le plateau du jeu du morpion. Retourner la variable `grille` à la fin.\n",
    "* Creer la fonction `creer_grille_gui()` dans laquelle on crée le plateau du morpion sur le canvas. Les variables `largeur_case` et `hauteur_case` sont des variables globales définies au début du fichier.\n",
    "---\n",
    "FONCTION creer_grille_gui() <br>\n",
    "&nbsp;&nbsp;**Pour** ligne de 0 à 3 <br>\n",
    "&nbsp;&nbsp;&nbsp;&nbsp; **Pour** col de 0 à 3 <br>\n",
    "&nbsp;&nbsp;&nbsp;&nbsp;&nbsp;&nbsp; P1 = (ligne * largeur_case, col * hauteur_case) <br>\n",
    "&nbsp;&nbsp;&nbsp;&nbsp;&nbsp;&nbsp; P2 = ((ligne+1) * largeur_case, (col+1) * hauteur_case) <br>\n",
    "&nbsp;&nbsp;&nbsp;&nbsp;&nbsp;&nbsp; canvas.create_rectangle(P1, P2, outline=\"white\",fill=\"black\") <br>\n",
    "\n",
    "---\n",
    "* Appeler la fonction `nouveau_morpion()` dans la partie main du programme, juste avant le `mainloop()`\n",
    "* Tester le programme"
   ]
  },
  {
   "cell_type": "markdown",
   "metadata": {},
   "source": [
    "**Etape 3 : Cliquer sur le plateau de jeu et récupérer la case où on a cliquer**\n",
    "\n",
    "* Dans la partie main du programme, ajouter la ligne `racine.bind(\"<Button-1>\", jouer)` qui lie le clique gauche de la souris (appelé \"Button-1\") et la fonction `jouer` qui sera créée juste après. `racine` est le nom de la fentre graphique.\n",
    "* Creer la fonction `jouer(event)`. `event` est un paramètre utilisé avec `bind` et qui contient les informations relatives au clique de l'utilisateur, notamment la position du clique.\n",
    "* Dans cette fonction, on veut récupérer le numéro de ligne et le numéro de colonne du clique puis mettre à jour le plateau de jeu. Pour l'intant on va juste tester la récupération de la ligne et de la colonne. Appeler la fonction `recup_ligne_col(event.x, event.y)` qui renvoie le numéro de ligne et de colonne à partir le position du clique donnée par `event.x` et `event.y`. Récupérer ce que renvoie cette fonction dans deux variables (`i, j` ou `ligne, col` par exemple).\n",
    "* Créer la fonction `recup_ligne_col(x, y)`. Dans cette fonction initialiser deux variables : `ligne=-1` et `col=-1`. A la fin de la fonction retourner `ligne, col`. Dans le corps de la fonction Utiliser des `if` pour retrouver le numéro de ligne (correspondant au x des abscisses) et de colonne (correspondant au y des ordonnées). On connait la taille d'une case grace à `largeur_case` et `hauteur_case`.\n",
    "* Dans la fonction `jouer`, `print(ligne, col)` et vérifier que les cliques correspondent aux bonnes lignes et colonnes. Le ligne=0,col=0 devrait correspondre à la case en haut à gauche. Le ligne=2,col=2 devrait correspondre à la case en bas à droite."
   ]
  },
  {
   "cell_type": "markdown",
   "metadata": {},
   "source": [
    "**Etape 4 : Mettre à jour le plateau de jeu**\n",
    "\n",
    "* Dans la fonction `jouer`, à la place du print, appeler la fonction `maj_plateau(ligne,col)` si ligne/=-1 et col=/-1 (c'est-à-dire si le clique a été fait sur le canvas)\n",
    "* Créer la fonction `maj_plateau(ligne,col)` qui va mettre à jour la variable `plateau` et l'interface graphique.\n",
    "---\n",
    "FONCTION maj_plateau(ligne,col) <br>\n",
    "&nbsp;&nbsp;global plateau, symbol <br>\n",
    "&nbsp;&nbsp;**Si** plateau[ligne][col] == \" \" <br>\n",
    "&nbsp;&nbsp;&nbsp;&nbsp; plateau[ligne][col] = symbol <br>\n",
    "&nbsp;&nbsp;&nbsp;&nbsp; **Si** symbol == \"O\" <br>\n",
    "&nbsp;&nbsp;&nbsp;&nbsp;&nbsp;&nbsp; P1 = (ligne * largeur_case, col * hauteur_case) <br>\n",
    "&nbsp;&nbsp;&nbsp;&nbsp;&nbsp;&nbsp; P2 = ((ligne+1) * largeur_case, (col+1) * hauteur_case) <br>\n",
    "&nbsp;&nbsp;&nbsp;&nbsp;&nbsp;&nbsp; canvas.create_oval(P1,P2,fill=\"blue\") <br>\n",
    "&nbsp;&nbsp;&nbsp;&nbsp; **Sinon** <br>\n",
    "&nbsp;&nbsp;&nbsp;&nbsp;&nbsp;&nbsp; P1 = (ligne * largeur_case, col * hauteur_case) <br>\n",
    "&nbsp;&nbsp;&nbsp;&nbsp;&nbsp;&nbsp; P2 = ((ligne+1) * largeur_case, (col+1) * hauteur_case) <br>\n",
    "&nbsp;&nbsp;&nbsp;&nbsp;&nbsp;&nbsp; P3 = ((ligne+1) * largeur_case, col * hauteur_case) <br>\n",
    "&nbsp;&nbsp;&nbsp;&nbsp;&nbsp;&nbsp; P4 = (ligne * largeur_case, (col+1) * hauteur_case) <br>\n",
    "&nbsp;&nbsp;&nbsp;&nbsp;&nbsp;&nbsp; canvas.create_line(P1, P2, fill=\"red\") <br>\n",
    "&nbsp;&nbsp;&nbsp;&nbsp;&nbsp;&nbsp; canvas.create_line(P3,P4, fill=\"red\") <br>\n",
    "&nbsp;&nbsp;&nbsp;&nbsp; **Si** symbol == \"O: <br>\n",
    "&nbsp;&nbsp;&nbsp;&nbsp;&nbsp;&nbsp; symbol = \"X\" <br>\n",
    "&nbsp;&nbsp;&nbsp;&nbsp; **Sinon** <br>\n",
    "&nbsp;&nbsp;&nbsp;&nbsp;&nbsp;&nbsp;symbol = \"O\" <br>\n",
    "\n",
    "---\n"
   ]
  },
  {
   "cell_type": "markdown",
   "metadata": {},
   "source": [
    "**Etape 5**\n",
    "* Tester le programme. \n",
    "    * Le clique de la souris doit dessiner le symbol du joueur et il doit y avoir une alternance entre O et X. \n",
    "    * Un O ou un X ne doit pas être dessiné par dessus un autre. \n",
    "    * Un symbol ne doit pas être dessiné lorsque l'utilisateur clique en dehors du canvas. \n",
    "    * Le bouton `Nouvelle partie` doit réinitialiser le plateau de jeu completement."
   ]
  }
 ],
 "metadata": {
  "kernelspec": {
   "display_name": "Python 3",
   "language": "python",
   "name": "python3"
  },
  "language_info": {
   "name": "python",
   "version": "3.9.1"
  }
 },
 "nbformat": 4,
 "nbformat_minor": 2
}
