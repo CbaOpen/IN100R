{
 "cells": [
  {
   "cell_type": "markdown",
   "metadata": {},
   "source": [
    "#  LSIN100N : Introduction au cours"
   ]
  },
  {
   "cell_type": "markdown",
   "metadata": {},
   "source": [
    "## 1. Emplois du temps\n",
    "---\n",
    "\n",
    "* [Emploi du temps officiel](https://edt.uvsq.fr/cal?vt=month&dt=2024-02-01&et=module&fid0=LSIN100R). Ce module s'appelle **LS**IN100**R**. \n",
    "* 12 semaines de travaux dirigés (TDs) de 4h30.\n",
    "* Tous les supports de cours et sujets de TDs seront accessibles via github, via ce [lien](https://github.com/uvsq-info/l1-python) là.\n",
    "* Il faut disposer d'un ordinateur pour les TDs. Emprunts possibles à la bibliothèque, mais on essaye d'avoir tout de suite une solution pour programmer.\n",
    "\n"
   ]
  },
  {
   "cell_type": "markdown",
   "metadata": {},
   "source": [
    "## 2. Environnement de programmation pour Python\n",
    "---\n",
    "\n",
    "Un programme est un *fichier texte* qui doit être interprété pour être exécuté. Pour cela il faut installer des logiciels:\n",
    "* un interpréteur: Python3 issu de la distribution Miniconda\n",
    "* un éditeur de texte: VisualStudioCode (ou vscode pour faire court)\n",
    "* des bibliothèques: numpy, matplotlib, jupyter\n",
    "* des outils de programmation: git, flake8, mypy\n",
    "\n"
   ]
  },
  {
   "cell_type": "markdown",
   "metadata": {},
   "source": [
    "Sur votre ordinateur personnel, vous devez suivre la procédure d'installation décrite sur [ce site](https://github.com/uvsq-info/l1-python/blob/master/INSTALL.md).\n",
    "\n",
    "## Remarques:\n",
    "* Vous avez seulement besoin de suivre les étapes précédant l'**installation du système de gestion de versions**. Si vous avez l'intention d'utiliser Git, veuillez compléter l'intégralité du processus d'installation détaillé dans le document INSTALL.md.\n",
    "* Même si vous avez déjà une installation Python, il est fortement recommandé de faire cette nouvelle installation\n",
    "* Il faut impérativement **installer le maximum de logiciels avant votre premier td** durant lequel on pourra vous aider\n",
    "* On utilise **Python3** et pas Python2"
   ]
  },
  {
   "cell_type": "markdown",
   "metadata": {},
   "source": [
    "**Environnement de programmation: plusieurs solutions**\n",
    "\n",
    "---\n",
    "\n",
    "* solution à privilégier: ordinateur personnel avec l'installation de l'environnement\n",
    "* sinon, pour les TDs: utilisation du cartable numérique\n",
    "    * prêt à la demi-journée à la bibliothèque\n",
    "    * carte d'étudiant obligatoire\n",
    "    * sauvegarde:\n",
    "        * Flash Disk, google drive, etc.\n",
    "        * ou bien via l'outil git et compte [github](https://github.com/) [seulement si vous avez complété l'intégralité du processus d'installation détaillé dans le document INSTALL.md]\n",
    "* en cas d'impossibilité d'installer l'environnement: utilisation d'un notebook Python en ligne comme [Google Colab](https://colab.research.google.com/notebooks/intro.ipynb#recent=true). Cette solution ne permet pas d'utiliser les outils de programmation."
   ]
  },
  {
   "cell_type": "markdown",
   "metadata": {},
   "source": [
    "## 3. Evaluation du cours\n",
    "---\n",
    "\n",
    "* contrôle continu exclusif\n",
    "* petits QCM (noté sur 5) à la fin de certains cours.\n",
    "* peut-être un exercice (noté sur 5) durant un TD.\n",
    "\n",
    "**Note** : si moyenne finale > 10 alors vous validez l'UE IN100 pour **l'année prochaine**. Si moyenne > 10 ET vous passez la seconde session de l'IN100 (en juin) alors vous validez l'IN100 **cette année**. "
   ]
  },
  {
   "cell_type": "markdown",
   "metadata": {},
   "source": [
    "## 3. Evaluation du cours: ce qui est attendu\n",
    "---\n",
    "\n",
    "* savoir lire du code \n",
    "* comprendre l'éxécution de programmes simples et imbriqués \n",
    "* retranscription de langage courant en langage Python\n",
    "* être capable, face à un problème simple, de le résoudre en utilisant la programmation"
   ]
  },
  {
   "cell_type": "markdown",
   "metadata": {},
   "source": [
    "## 4. Python\n",
    "---\n",
    "\n",
    "* créé par Guido van Russom (Pays-Bas), fan des Monty-Python\n",
    "* première version de Python en 1991\n",
    "* entre autres caractéristiques du langage:\n",
    "    * multiplateformes: Windows, Linux, MacOs, Android...\n",
    "    * gratuit et open-source\n",
    "    * langage de haut-niveau \n",
    "    * bénéficie d'une communauté active\n",
    "    * caractéristiques techniques du langage vues au fur et à mesure du cours"
   ]
  },
  {
   "cell_type": "markdown",
   "metadata": {},
   "source": [
    "**Manières de programmer en Python**\n",
    "\n",
    "---\n",
    "\n",
    "* notebook Python (cf cellule suivante)\n",
    "* interpréteur en mode interactif (démo dans le terminal)\n",
    "* programme (aussi appelé script)\n",
    "    * fichier texte qui contient une suite d'instructions\n",
    "    * on écrit avec un *éditeur de texte*, ce que n'est pas le logiciel word\n",
    "    * on exécute avec un interpréteur\n",
    "* programmer c'est aussi:\n",
    "    * écrire un programme lisible pour soi et les autres\n",
    "    * savoir débugger un programme\n",
    "    * maîtriser des outils de sauvegarde et de gestion de version\n",
    "    \n"
   ]
  },
  {
   "cell_type": "markdown",
   "metadata": {},
   "source": [
    "**Quelques références**\n",
    "\n",
    "---\n",
    "\n",
    "Vous trouverez beaucoup de cours en ligne. Voici une sélection de références:\n",
    "\n",
    "* livre de cours [en ligne](https://python.sdv.univ-paris-diderot.fr/)\n",
    "* site [https://courspython.com/bases-python.html](https://courspython.com/bases-python.html)\n",
    "* le [tutoriel](https://docs.python.org/fr/3/tutorial/index.html) et la [documentation officielle de Python3](https://docs.python.org/fr/3/)\n",
    "* Outil Basthon : https://basthon.fr/ \n",
    "\n",
    "et des réponses possibles à vos questions sur le site de questions-réponses [stackoverflow](https://stackoverflow.com/) (en anglais)\n",
    "\n"
   ]
  }
 ],
 "metadata": {
  "kernelspec": {
   "display_name": "Python 3",
   "language": "python",
   "name": "python3"
  },
  "language_info": {
   "name": "python",
   "version": "3.9.1"
  }
 },
 "nbformat": 4,
 "nbformat_minor": 2
}
