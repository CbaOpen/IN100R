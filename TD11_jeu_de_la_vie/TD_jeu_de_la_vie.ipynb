{
 "cells": [
  {
   "cell_type": "markdown",
   "metadata": {},
   "source": [
    "# TD 11 : Jeu de la vie"
   ]
  },
  {
   "cell_type": "markdown",
   "metadata": {},
   "source": [
    "L’objectif de ce sujet est de vous faire découvrir « le jeu de la vie ».\n",
    "\n",
    "La première partie vous permettra de vous familiariser avec la notion de tableau à deux dimensions. Ces tableaux seront utilisés dans la deuxième partie pour représenter\n",
    "le jeu de la vie."
   ]
  },
  {
   "cell_type": "markdown",
   "metadata": {},
   "source": [
    "**Partie 1 : Tableaux à deux dimensions :**\n",
    "\n",
    "En informatique, il est fréquent d’utiliser des tableaux à deux dimensions : des informations sont stockées dans une grille où chaque case est identifiée par un numéro de ligne et un numéro de colonne.\n",
    "\n",
    "En python, on peut représenter ces tableaux à 2 dimensions par des listes de listes (ou vecteurs de vecteurs)."
   ]
  },
  {
   "cell_type": "markdown",
   "metadata": {},
   "source": [
    "1. Créez une grille `grille1` de 4 lignes et 6 colonnes ne contenant que des 0."
   ]
  },
  {
   "cell_type": "code",
   "execution_count": null,
   "metadata": {},
   "outputs": [],
   "source": []
  },
  {
   "cell_type": "markdown",
   "metadata": {},
   "source": [
    "2. Créez une grille `grille2` contenant les caractères ci-dessous : \\\n",
    "|A B C D|\\\n",
    "|E F G H|"
   ]
  },
  {
   "cell_type": "code",
   "execution_count": null,
   "metadata": {},
   "outputs": [],
   "source": []
  },
  {
   "cell_type": "markdown",
   "metadata": {},
   "source": [
    "3. Créez une fonction qui affiche joliment la grille 2D (c'éest-à-dire ligne par ligne ou colonne par colonne)"
   ]
  },
  {
   "cell_type": "code",
   "execution_count": null,
   "metadata": {},
   "outputs": [],
   "source": []
  },
  {
   "cell_type": "markdown",
   "metadata": {},
   "source": [
    "4. Créez une fonction `creer_grille_aleatoire(n,m)` qui  renvoie une grille avec n lignes et m colonnes, et dont chaque case contient un entier tiré aléatoirement entre 0 et 9.\n",
    "\n",
    "Affichez la grille\n",
    "\n",
    "*Note : on pourra utiliser random.randint(1,9). Ne pas oublier d'importer la librairie random*"
   ]
  },
  {
   "cell_type": "code",
   "execution_count": 5,
   "metadata": {},
   "outputs": [
    {
     "data": {
      "text/plain": [
       "0.8872398245491482"
      ]
     },
     "execution_count": 5,
     "metadata": {},
     "output_type": "execute_result"
    }
   ],
   "source": []
  },
  {
   "cell_type": "markdown",
   "metadata": {},
   "source": [
    "5. Créez une fonction `creer_grille_aleatoire_p(n,m,p)` qui  renvoie une grille avec n lignes et m colonnes, et dont chaque case contient `True` ou `False` avec p%  de chance d'avoir `True`. p est compris entre 0 et 1.\n",
    "\n",
    "Affichez la grille\n",
    "\n",
    "*Note : on utilisera la fonction random.random() pour tirer un nombre aléatoire entre 0 et 1. Ne pas oublier d'importer la librairie random. Si ce nombre est inférieure à p alors la case de la grille vaut True.*"
   ]
  },
  {
   "cell_type": "code",
   "execution_count": null,
   "metadata": {},
   "outputs": [],
   "source": []
  },
  {
   "cell_type": "markdown",
   "metadata": {},
   "source": [
    "6. Créez une fonction `affiche_grille_jdv(grille)` qui affiche la grille créée par la fonction `creer_grille_aleatoire_p(n,m,p)` mais qui remplace les case False par un '.' et les cases True par un 'O'."
   ]
  },
  {
   "cell_type": "code",
   "execution_count": null,
   "metadata": {},
   "outputs": [],
   "source": []
  },
  {
   "cell_type": "markdown",
   "metadata": {},
   "source": [
    "**Partie 2 : Jeu de la vie**\n",
    "\n",
    "Le « jeu de la vie » a été inventé par le mathématicien britannique John Horton Conway en 1970.\n",
    "\n",
    "Il s’agit d’un « automate cellulaire », c’est-à-dire d’une machine qui évolue mécaniquement d’un état vers un autre. Cette évolution est déterminée par des règles simples, qui permettent néanmoins d’obtenir des motifs très complexes.\n",
    "\n",
    "Le « jeu de la vie » se déroule sur une grille, dont chacune des cases est appelée une « cellule ». Chacune de ces cellules a deux états possibles : « vivante » ou « morte ».\n",
    "\n",
    "Toutes les cellules de la grille évoluent en même temps, étape par étape, en fonction de l’état des cellules voisines :\n",
    "* Si une cellule est vivante,\n",
    "    * si elle a moins de deux voisines vivantes, elle meurt d’isolement\n",
    "    * si elle a deux ou trois voisines vivantes, elle reste en vie\n",
    "    * si elle a plus de trois voisines vivantes, elle meurt de surpopulation\n",
    "* Si une cellule est morte\n",
    "    * si elle a trois voisins vivantes, elle naît (c’est-à-dire qu’elle devient vivante)\n",
    "    * sinon, elle reste morte\n",
    "\n",
    "![](exemple1.png)"
   ]
  },
  {
   "cell_type": "markdown",
   "metadata": {},
   "source": [
    "1. Testez votre compréhension en remplissant à la main les grilles ci-dessous :\n",
    "\n",
    "![](exemple2.PNG)"
   ]
  },
  {
   "cell_type": "markdown",
   "metadata": {},
   "source": [
    "2.  on utilise un tableau de booléens à deux dimensions :\n",
    "* Les cellules vivantes sont représentées par le booléen True\n",
    "* Les cellules mortes sont représentées par le booléen False\n",
    "\n",
    "Créez une grille de booléens correspondant au schéma ci-dessous, et utilisez la fonction `affiche_grille_jdv` pour vérifier vos résultats.\n",
    "\n",
    "![](exemple3.PNG)"
   ]
  },
  {
   "cell_type": "code",
   "execution_count": null,
   "metadata": {},
   "outputs": [],
   "source": []
  },
  {
   "cell_type": "markdown",
   "metadata": {},
   "source": [
    "3. Créez une fonction `position_valide(grille, i, j)` qui renvoie vrai si `(i, j)` est une position valide dans la grille `grille`, c’est-à-dire s’il existe bien une ligne `i` et une colonne `j` dans la grille."
   ]
  },
  {
   "cell_type": "code",
   "execution_count": null,
   "metadata": {},
   "outputs": [],
   "source": []
  },
  {
   "cell_type": "markdown",
   "metadata": {},
   "source": [
    "5. Créez une fonction `positions_voisines(grille, i, j)`qui renvoie la liste des positions des cellules voisines de la cellule située sur la ligne `i` et la colonne `j` dans la grille `grille`."
   ]
  },
  {
   "cell_type": "code",
   "execution_count": null,
   "metadata": {},
   "outputs": [],
   "source": []
  },
  {
   "cell_type": "markdown",
   "metadata": {},
   "source": [
    "6.  Créez une fonction `nombre_voisines_vivantes(grille, i, j)` qui  renvoie le nombre de voisines vivantes de la cellule située sur la ligne `i` et la colonne `j` dans la grille `grille`."
   ]
  },
  {
   "cell_type": "code",
   "execution_count": null,
   "metadata": {},
   "outputs": [],
   "source": []
  },
  {
   "cell_type": "markdown",
   "metadata": {},
   "source": [
    "7. Créez une fonction `etat_suivant(grille, i, j)` qui  renvoie l’état (True ou False) de la cellule située sur la ligne `i` et la colonne `j` dans la grille `grille` à la prochaine étape du jeu de la vie."
   ]
  },
  {
   "cell_type": "code",
   "execution_count": null,
   "metadata": {},
   "outputs": [],
   "source": []
  },
  {
   "cell_type": "markdown",
   "metadata": {},
   "source": [
    "8. Créez une fonction `jeu_de_la_vie(grille)` telle que la fonction met à jour la grille `grille` selon les règles du jeu de la vie"
   ]
  },
  {
   "cell_type": "code",
   "execution_count": null,
   "metadata": {},
   "outputs": [],
   "source": []
  },
  {
   "cell_type": "markdown",
   "metadata": {},
   "source": [
    "9. Faites tourner le jeu de la vie à partir de la boucle while suivant. Au lieu du print actuel, on affichera la grille et on calculera l'étape suivante. On peut également afficher l'itération."
   ]
  },
  {
   "cell_type": "code",
   "execution_count": 6,
   "metadata": {},
   "outputs": [
    {
     "name": "stdout",
     "output_type": "stream",
     "text": [
      "Iteration 7 Score: 0.8279592062820846\n"
     ]
    },
    {
     "ename": "KeyboardInterrupt",
     "evalue": "",
     "output_type": "error",
     "traceback": [
      "\u001b[1;31m---------------------------------------------------------------------------\u001b[0m",
      "\u001b[1;31mKeyboardInterrupt\u001b[0m                         Traceback (most recent call last)",
      "\u001b[1;32mC:\\Users\\BASKEV~1\\AppData\\Local\\Temp/ipykernel_45120/2395944664.py\u001b[0m in \u001b[0;36m<module>\u001b[1;34m\u001b[0m\n\u001b[0;32m      6\u001b[0m     \u001b[0mclear_output\u001b[0m\u001b[1;33m(\u001b[0m\u001b[0mwait\u001b[0m\u001b[1;33m=\u001b[0m\u001b[1;32mTrue\u001b[0m\u001b[1;33m)\u001b[0m\u001b[1;33m\u001b[0m\u001b[1;33m\u001b[0m\u001b[0m\n\u001b[0;32m      7\u001b[0m     \u001b[0mprint\u001b[0m\u001b[1;33m(\u001b[0m\u001b[1;34m'Iteration '\u001b[0m\u001b[1;33m+\u001b[0m\u001b[0mstr\u001b[0m\u001b[1;33m(\u001b[0m\u001b[0mi\u001b[0m\u001b[1;33m)\u001b[0m\u001b[1;33m+\u001b[0m\u001b[1;34m' Score: '\u001b[0m\u001b[1;33m+\u001b[0m\u001b[0mstr\u001b[0m\u001b[1;33m(\u001b[0m\u001b[0mrd\u001b[0m\u001b[1;33m.\u001b[0m\u001b[0mrandom\u001b[0m\u001b[1;33m(\u001b[0m\u001b[1;33m)\u001b[0m\u001b[1;33m)\u001b[0m\u001b[1;33m)\u001b[0m\u001b[1;33m\u001b[0m\u001b[1;33m\u001b[0m\u001b[0m\n\u001b[1;32m----> 8\u001b[1;33m     \u001b[0mtime\u001b[0m\u001b[1;33m.\u001b[0m\u001b[0msleep\u001b[0m\u001b[1;33m(\u001b[0m\u001b[1;36m1\u001b[0m\u001b[1;33m)\u001b[0m\u001b[1;33m\u001b[0m\u001b[1;33m\u001b[0m\u001b[0m\n\u001b[0m\u001b[0;32m      9\u001b[0m     \u001b[0mi\u001b[0m \u001b[1;33m+=\u001b[0m \u001b[1;36m1\u001b[0m\u001b[1;33m\u001b[0m\u001b[1;33m\u001b[0m\u001b[0m\n",
      "\u001b[1;31mKeyboardInterrupt\u001b[0m: "
     ]
    }
   ],
   "source": [
    "import random as rd\n",
    "import time\n",
    "from IPython.display import clear_output\n",
    "i=1\n",
    "while True:\n",
    "    clear_output(wait=True)\n",
    "    print('Iteration '+str(i)+' Score: '+str(rd.random()))\n",
    "    time.sleep(1)\n",
    "    i += 1"
   ]
  },
  {
   "cell_type": "markdown",
   "metadata": {},
   "source": [
    "10. Vous pouvez maintenant faire tourner le programme `jeu_de_la_vie.py` qui fait tourner un jeu de la vie avec interface graphique. On peut choisir si une cellule est vivante ou morte en cliquant dans la grille. Essayez de reproduire des schémas simple du jeu de la vie.\n",
    "\n",
    "Quelques exemples ici : https://jeu-de-la-vie.odoo.com\n",
    "\n",
    "Une vidéo ici : https://www.youtube.com/watch?v=eMn43As24Bo\n",
    "\n",
    "Une autre : https://www.youtube.com/watch?v=S-W0NX97DB0\n",
    "\n",
    "Vous pouvez regarder les images exemple 4 à 9 et les essayer.\n",
    "\n",
    "![](exemple4.PNG)"
   ]
  }
 ],
 "metadata": {
  "kernelspec": {
   "display_name": "Python 3",
   "language": "python",
   "name": "python3"
  },
  "language_info": {
   "codemirror_mode": {
    "name": "ipython",
    "version": 3
   },
   "file_extension": ".py",
   "mimetype": "text/x-python",
   "name": "python",
   "nbconvert_exporter": "python",
   "pygments_lexer": "ipython3",
   "version": "3.9.1"
  }
 },
 "nbformat": 4,
 "nbformat_minor": 2
}
