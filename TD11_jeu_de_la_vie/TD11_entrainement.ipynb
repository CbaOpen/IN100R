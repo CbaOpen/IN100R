{
 "cells": [
  {
   "cell_type": "markdown",
   "metadata": {},
   "source": [
    "# TD 11 : entrainement"
   ]
  },
  {
   "cell_type": "markdown",
   "metadata": {},
   "source": [
    "**Exercice 1 : Tableau de réels aléatoires de [0, 1]**\n",
    "\n",
    "Écrire un programme qui remplit un tableau de n réels avec des nombres aléatoires compris entre 0 et 1. La taille du tableau sera demandée à l’utilisateur. \n",
    "\n",
    "Indication : Utiliser la fonction random() qui engendre des nombres réels compris entre 0 et 1 et penser à importer la bibliothèque adéquate."
   ]
  },
  {
   "cell_type": "code",
   "execution_count": null,
   "metadata": {},
   "outputs": [],
   "source": []
  },
  {
   "cell_type": "markdown",
   "metadata": {},
   "source": [
    "**Exercice 2 : Dernière valeur strictement positive d’un tableau**\n",
    "\n",
    "On suppose que l’on a une variable tab contenant un tableau d’entiers. Écrire un programme affichant la dernière valeur strictement positive d’un tableau (si elle existe) ou le message Le tableau n’a pas de valeur strictement positive dans le cas contraire. Par exemple, si tab vaut [-2, 3, 0, -1, 2, 0], le programme doit afficher 2. Si tab vaut [-2, -3, 0, -1, -2, 0], le programme doit afficher Le tableau n’a\n",
    "pas de valeur strictement positive."
   ]
  },
  {
   "cell_type": "code",
   "execution_count": null,
   "metadata": {},
   "outputs": [],
   "source": []
  },
  {
   "cell_type": "markdown",
   "metadata": {},
   "source": [
    "**Exercice 3 : Tableau de puissances**\n",
    "\n",
    "Définir une fonction qui prend en paramètres deux entiers n et k et retourne un tableau de longueur k dont la i^eme case contient la valeur n^i (Rappel : on peut calculer n^i en Python grâce à l’instruction n**i). Par exemple, l’appel de la fonction avec les valeurs 5 pour n et 4 pour k doit retourner le tableau [1, 5, 25, 125]"
   ]
  },
  {
   "cell_type": "code",
   "execution_count": null,
   "metadata": {},
   "outputs": [],
   "source": []
  }
 ],
 "metadata": {
  "kernelspec": {
   "display_name": "Python 3",
   "language": "python",
   "name": "python3"
  },
  "language_info": {
   "name": "python",
   "version": "3.9.1"
  }
 },
 "nbformat": 4,
 "nbformat_minor": 2
}
