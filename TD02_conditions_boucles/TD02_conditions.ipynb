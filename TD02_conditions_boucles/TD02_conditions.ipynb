{
 "cells": [
  {
   "cell_type": "markdown",
   "metadata": {},
   "source": [
    "---\n",
    "\n",
    "## 1. Les structures conditionnelles"
   ]
  },
  {
   "cell_type": "markdown",
   "metadata": {},
   "source": [
    "**Exercice 1:**\n",
    "\n",
    "1. Soit *num1 = 20* et *num2 = 4*. Ecrire un programme qui affiche *Factors!* si l'un des nombres est un facteur de l'autre (c'est-à-dire qu'il divise l'autre nombre). Si aucun des nombres n'est un facteur de l'autre, le programme n'affiche rien.  (On peut calculer *num1* modulo *num2* pour savoir si *num2* est un facteur de *num1*. Et inversement, *num2* modulo *num1*, pour savoir si *num1* est un facteur de *num2*.)\n",
    "2. Changer le code que vous avez écrit de telle sorte qu'il affiche toujours *Factors!* si un nombre est un facteur de l'autre, mais qui affiche aussi *Not factors!* si aucun des nombres n'est un facteur de l'autre.\n",
    "3. Changer le code pour que l'utilisateur puisse donner lui même les deux nombres."
   ]
  },
  {
   "cell_type": "code",
   "execution_count": null,
   "metadata": {},
   "outputs": [],
   "source": []
  },
  {
   "cell_type": "markdown",
   "metadata": {},
   "source": [
    "**Exercice 2:**\n",
    "\n",
    "1. Soit `jour = \"lundi\"`. Ecrire un programme qui affiche :\n",
    "    * \"Force et Courage\" ! si le jour est un lundi, mardi, mercredi ou jeudi.\n",
    "    * \"Allez, c'est bientôt le weekend !\" Si le jour est un vendredi.\n",
    "    * \"Vive le weekend !\" si le jour est un samedi ou dimanche.\n",
    "2. Modifier le code pour que l'utilisateur rentre lui-même le jour."
   ]
  },
  {
   "cell_type": "code",
   "execution_count": null,
   "metadata": {},
   "outputs": [],
   "source": []
  },
  {
   "cell_type": "markdown",
   "metadata": {},
   "source": [
    "**Exercice 3:**\n",
    "\n",
    "1. Voici les notes d’un étudiant : 14, 9, 13, 15 et 12. Écrivez un script qui affiche la note maximum (fonction *max(var1,var2,var3,...)*), la note minimum (fonction *min(var1,var2,var3,...)*) et qui calcule la moyenne.\n",
    "2. Affichez la valeur de la moyenne avec deux décimales. \n",
    "3. Affichez aussi la mention obtenue sachant que la mention est :\n",
    "    * passable si la moyenne est entre 10 inclus et 12 exclus\n",
    "    * assez-bien entre 12 inclus et 14 exclus\n",
    "    * bien au-delà de 14."
   ]
  },
  {
   "cell_type": "code",
   "execution_count": null,
   "metadata": {},
   "outputs": [],
   "source": []
  },
  {
   "cell_type": "markdown",
   "metadata": {},
   "source": [
    "**Exercice 4:**\n",
    "\n",
    "1. Que calcul l'algorithme suivant ?\n",
    "\n",
    "---\n",
    "\n",
    "*var1 = 2*  \n",
    "*var2 = 9*  \n",
    "*var3 = 4*  \n",
    "**Si** *var1 > var2* **alors**   \n",
    "&nbsp;&nbsp; **Si** *var1 > var3* **alors**  \n",
    "&nbsp;&nbsp; &nbsp;&nbsp; *Ecrire \"Le maximum entre var1, var2 et var3 est var1\"*  \n",
    "&nbsp;&nbsp; **Sinon**  \n",
    "&nbsp;&nbsp; &nbsp;&nbsp; *Ecrire \"Le maximum entre var1, var2 et var3 est var3\"*  \n",
    "**Sinon si** *var2 > var3* **alors**  \n",
    "&nbsp;&nbsp; &nbsp;&nbsp; *Ecrire \"Le maximum entre var1, var2 et var3 est var2\"*  \n",
    "**Sinon**  \n",
    "&nbsp;&nbsp; &nbsp;&nbsp; *Ecrire \"Le maximum entre var1, var2 et var3 est var3\"*\n",
    "\n",
    "---\n"
   ]
  },
  {
   "cell_type": "markdown",
   "metadata": {},
   "source": [
    "2. Traduire cet algorithme en pseudocode en python :"
   ]
  },
  {
   "cell_type": "code",
   "execution_count": null,
   "metadata": {},
   "outputs": [],
   "source": []
  },
  {
   "cell_type": "markdown",
   "metadata": {},
   "source": [
    "**Exercice 5:**\n",
    "\n",
    "*Pierre, Papier, ciseaux !*\n",
    "\n",
    "On veut implémenter un petit jeu de pierre, papier, ciseaux entre deux joueurs :\n",
    "1. Demander, avec la fonction *input*, le choix du *joueur1* puis du *joueur2*. On notera :\n",
    "    * \"r\" pour pierre (vient du terme anglais *rock*)\n",
    "    * \"p\" pour papier\n",
    "    * \"c\" pour ciseaux\n",
    "2. Stocker ces choix dans une variable `joueur1` et `joueur2`\n",
    "3. Ecrire le programme qui dit quel joueur à gagner :\n",
    "    * Si *joueur1* et *joueur2* ont joué la même chose alors écrire \"Match nul !\"\n",
    "    * Si *joueur1* a gagné alors écrire \"Joueur 1 a gagné !\"\n",
    "    * Sinon écrire \"Joueur 2 a gagné !\"\n",
    "\n",
    "Rappel : pour que *joueur1* gagne il faut qu'il joue\n",
    "* pierre et *joueur2* ciseaux\n",
    "* papier et *joueur2* pierre\n",
    "* ciseaux et *joueur2* papier"
   ]
  },
  {
   "cell_type": "code",
   "execution_count": null,
   "metadata": {},
   "outputs": [],
   "source": []
  },
  {
   "cell_type": "markdown",
   "metadata": {},
   "source": [
    "**Exercice 6:**\n",
    "\n",
    "*Trouve le nombre ! (étape 1)*\n",
    "\n",
    "On veut implémenter un jeu où il faut trouver un nombre entier choisi au hasard par l'ordinateur entre 1 et *x*. On veut que *x* soit donné par l'utilisateur.\n",
    "1. Demander à l'utilisateur un nombre entier et stocker cet entier dans une variable `x`. (attention à bien convertir en entier)\n",
    "2. Importer le package \"random\" avec `import random` (en général on met les `import` au tout début du code pour avoir une meilleure visibilité sur l'algorithme)\n",
    "3. La fonction `random.randint(a, b)` renvoie un nombre entier au hasard, compris entre *a* et *b*. Stocker dans une variable `random_nb` un nombre pris au hasard entre *1* et *x*.\n",
    "4. Demander à l'utilisateur un nombre entier compris entre *1* et *x* et stocker dans une variable `essai`. (attention à bien convertir en entier)\n",
    "4. Ecrire le code qui écrit :\n",
    "    * \"Bravo tu as trouvé !\" si `essai == random_nb`\n",
    "    * \"Trop petit. Désolé essaye encore !\" si `essai < random_nb`\n",
    "    * \"Trop grand. Désolé essaye encore !\" si `essai > random_nb`"
   ]
  },
  {
   "cell_type": "code",
   "execution_count": null,
   "metadata": {},
   "outputs": [],
   "source": []
  }
 ],
 "metadata": {
  "kernelspec": {
   "display_name": "Python 3",
   "language": "python",
   "name": "python3"
  },
  "language_info": {
   "name": "python",
   "version": "3.9.1"
  }
 },
 "nbformat": 4,
 "nbformat_minor": 2
}
