{
 "cells": [
  {
   "cell_type": "markdown",
   "metadata": {},
   "source": [
    "---\n",
    "\n",
    "## TD06 Le jeu du pendu"
   ]
  },
  {
   "cell_type": "markdown",
   "metadata": {},
   "source": [
    "Dans ce TD on veut coder le jeu du pendu.\n",
    "\n",
    "Vous trouverez dans le dossier du TD 3 fichiers python (.py) :\n",
    "* visuel_vies.py qui contient un dictionnaire avec le visuel des vies en ascii\n",
    "* mots.py qui contient une liste de mots\n",
    "* jeu_pendu.py qui contient le programme\n",
    "\n",
    "**Etape 1** : Ajouter des mots dans la liste de mots.\n",
    "\n",
    "**Etape 2** : completer le code dans le fichier jeu_pendu.py afin qu'il puisse fonctionner correctement."
   ]
  },
  {
   "cell_type": "code",
   "execution_count": null,
   "metadata": {},
   "outputs": [],
   "source": []
  }
 ],
 "metadata": {
  "kernelspec": {
   "display_name": "Python 3",
   "language": "python",
   "name": "python3"
  },
  "language_info": {
   "name": "python",
   "version": "3.9.1"
  }
 },
 "nbformat": 4,
 "nbformat_minor": 2
}
