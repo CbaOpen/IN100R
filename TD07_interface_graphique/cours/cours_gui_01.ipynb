{
 "cells": [
  {
   "cell_type": "markdown",
   "metadata": {
    "slideshow": {
     "slide_type": "slide"
    }
   },
   "source": [
    "# interface graphique avec tkinter\n",
    "\n",
    "**GUI = graphical user interface**"
   ]
  },
  {
   "cell_type": "markdown",
   "metadata": {
    "slideshow": {
     "slide_type": "slide"
    }
   },
   "source": [
    "## 1. Généralités sur la programmation avec tkinter\n",
    "---\n",
    "\n",
    "*tkinter = tk interface* \n",
    "\n",
    "*tk = tool kit* est une bibliothèque d'interface graphique commune à différents langages de programmation.\n",
    "\n",
    "tkinter est installé avec Python. Il existe d'autres librairies graphiques comme *pygame*.\n",
    "\n",
    "**Sites de référence:**\n",
    "\n",
    "[Tutoriel simple en français](https://openclassrooms.com/fr/courses/235344-apprenez-a-programmer-en-python/234859-creez-des-interfaces-graphiques-avec-tkinter)\n",
    "\n",
    "[Tutoriel plus avancé en français](https://vincent.developpez.com/cours-tutoriels/python/tkinter/apprendre-creer-interface-graphique-tkinter-python-3/#LI)\n",
    "\n",
    "[Pour retrouver rapidement des informations sur tkinter](http://tkinter.fdex.eu/) (site très utile!)\n",
    "\n",
    "[La documentation officielle de Python](https://docs.python.org/fr/3/library/tkinter.html)"
   ]
  },
  {
   "cell_type": "markdown",
   "metadata": {
    "slideshow": {
     "slide_type": "subslide"
    }
   },
   "source": [
    "**Eléments d'une interface graphique (aussi appelé IHM = interface homme machine)**\n",
    "\n",
    "---\n",
    "\n",
    "* fenêtre graphique\n",
    "\n",
    "* *widgets* (window gadget): objets graphiques permettant à l'utilisateur d'intéragir avec un programme Python de manière conviviale:\n",
    "\n",
    "    * affichage de texte ou d'image\n",
    "    * boutons\n",
    "    * champs de saisie\n",
    "    * barre de défilement (aussi appelé ascenseur)\n",
    "    * espace de dessin (canevas), etc.\n",
    "\n",
    "    \n",
    "* gestionnaire d'événements:\n",
    "    * déplacement ou clic de souris\n",
    "    * appui sur une touche du clavier\n",
    "\n",
    "Chaque widget est contenu dans un autre widget, sauf la *fenêtre racine* qui correspond à la fenêtre principale."
   ]
  },
  {
   "cell_type": "markdown",
   "metadata": {
    "slideshow": {
     "slide_type": "subslide"
    }
   },
   "source": [
    "**Elements d'un programme minimal**\n",
    "\n",
    "---\n",
    "\n",
    "* importer la librairie *tkinter* abrégée en `tk`:\n",
    "```python\n",
    "import tkinter as tk\n",
    "```\n",
    "\n",
    "* la fonction de la librairie tkinter `Tk()` créée la fenêtre racine. La valeur retournée par la fonction doit être affecté à une variable pour pouvoir manipuler la fenêtre racine (ajouter des widgets, mettre à jour l'affichage...)\n",
    "\n",
    "* méthode `.mainloop()` associée à la fenêtre racine qui permet de démarrer le gestionnaire d'événements et de mettre à jour l'affichage. Elle est  toujours placée à la fin du programme (on verra pourquoi plus tard)."
   ]
  },
  {
   "cell_type": "code",
   "execution_count": 9,
   "metadata": {
    "slideshow": {
     "slide_type": "fragment"
    }
   },
   "outputs": [],
   "source": [
    "import tkinter as tk\n",
    "\n",
    "\n",
    "racine = tk.Tk() # Création de la fenêtre racine\n",
    "racine.mainloop() # Lancement de la boucle principale"
   ]
  },
  {
   "cell_type": "markdown",
   "metadata": {
    "slideshow": {
     "slide_type": "-"
    }
   },
   "source": [
    "La fenêtre possède une barre de titre (*tk* par défaut), et un espace gris. \n",
    "\n",
    "Elle peut être redimensionnée ou fermée avec la souris comme n'importe quelle fenêtre de votre environnement graphique."
   ]
  },
  {
   "cell_type": "markdown",
   "metadata": {
    "slideshow": {
     "slide_type": "subslide"
    }
   },
   "source": [
    "**Créer un widget**\n",
    "\n",
    "--- \n",
    "\n",
    "Syntaxe globale:\n",
    "```python\n",
    "ma_variable = UnWidget(widget_parent, parametre=\"une_valeur\")\n",
    "```\n",
    "* `ma_variable` est le nom choisi pour référencer le widget \n",
    "* `UnWidget()` est la fonction qui créée le widget, par exemple:\n",
    "    * `Label()`: affichage de texte\n",
    "    * `Button()`: bouton à cliquer\n",
    "    * `Canvas()`: canevas pour dessiner des objets\n",
    "* `widget_parent` est le nom du widget qui va contenir celui qu'on créée\n",
    "    * en général ce sera le widget racine pour des petites applications\n",
    "    * c'est le premier paramètre de la fonction qui créé le widget\n",
    "* les paramètres vont dépendre du widget. Ils sont souvent très nombreux, et on les utilise via leur nom et non pas leur position (sauf pour le widget parent).\n",
    "* dans le cours, on ne manipulera qu'une partie minime de la librairie.\n",
    "\n",
    "\n",
    "\n"
   ]
  },
  {
   "cell_type": "markdown",
   "metadata": {
    "slideshow": {
     "slide_type": "subslide"
    }
   },
   "source": [
    "**Exemple**\n",
    "\n",
    "---\n"
   ]
  },
  {
   "cell_type": "code",
   "execution_count": 10,
   "metadata": {
    "slideshow": {
     "slide_type": "-"
    }
   },
   "outputs": [],
   "source": [
    "import tkinter as tk\n",
    "\n",
    "racine = tk.Tk() # Création de la fenêtre racine\n",
    "racine.title(\"Un premier exemple\") # ajoute un titre\n",
    "label = tk.Label(racine, text=\"Un texte dans ma fenêtre\", font=(\"helvetica\", \"20\")) # création du widget\n",
    "label.grid() # positionnement du widget\n",
    "racine.mainloop() # Lancement de la boucle principale"
   ]
  },
  {
   "cell_type": "markdown",
   "metadata": {
    "slideshow": {
     "slide_type": "fragment"
    }
   },
   "source": [
    "En plus de la création du widget, il faut le positionner pour qu'il s'affiche. C'est le rôle de la méthode `.grid()`.\n",
    "\n",
    "On a également ajouté un titre à la fenêtre."
   ]
  },
  {
   "cell_type": "markdown",
   "metadata": {
    "slideshow": {
     "slide_type": "slide"
    }
   },
   "source": [
    "## 2. Positionnement des widgets\n",
    "\n",
    "---\n",
    "\n",
    "\n",
    "La librairie tkinter propose trois gestionnaires de position:\n",
    "* `.pack()`\n",
    "* `.place()`\n",
    "* `.grid()`: celui que nous utiliserons\n",
    "\n"
   ]
  },
  {
   "cell_type": "markdown",
   "metadata": {
    "slideshow": {
     "slide_type": "subslide"
    }
   },
   "source": [
    "**Méthode `.grid()`**\n",
    "\n",
    "---\n",
    "\n",
    "Ce gestionnaire place le widget dans une case du widget parent qui est divisé en lignes et colonnes:\n",
    "\n",
    "![](grid.png)\n"
   ]
  },
  {
   "cell_type": "code",
   "execution_count": 11,
   "metadata": {
    "slideshow": {
     "slide_type": "subslide"
    }
   },
   "outputs": [],
   "source": [
    "import tkinter as tk\n",
    "\n",
    "racine = tk.Tk() # Création de la fenêtre racine\n",
    "label1 = tk.Label(racine, text=\"Un texte long dans ma fenêtre\", font = (\"helvetica\", \"30\")) # création d'un widget\n",
    "label2 = tk.Label(racine, text=\"toto\", font = (\"helvetica\", \"30\")) # création d'un widget\n",
    "label3 = tk.Label(racine, text=\"toto1\", font = (\"helvetica\", \"15\")) # création d'un widget\n",
    "\n",
    "label1.grid(column=0, row=0) # positionnement du premier widget\n",
    "label2.grid(row=1, column=0) # positionnement du premier widget\n",
    "label3.grid(row=1, column=1) # positionnement du premier widget\n",
    "\n",
    "racine.mainloop() # Lancement de la boucle principale"
   ]
  },
  {
   "cell_type": "markdown",
   "metadata": {
    "slideshow": {
     "slide_type": "fragment"
    }
   },
   "source": [
    "Noter que les colonnes croissent de gauche à droite, et les lignes croissent de haut en bas.\n",
    "\n",
    "L'ensemble des paramètres associés à cette méthode sont [décrits ici](http://tkinter.fdex.eu/doc/gp.html)."
   ]
  },
  {
   "cell_type": "markdown",
   "metadata": {
    "slideshow": {
     "slide_type": "slide"
    }
   },
   "source": [
    "## 3. Widgets Label et Button\n",
    "\n",
    "---\n",
    "\n",
    "Paramètres de choix de couleurs:\n",
    "* `fg` (ou `foreground`): couleur du texte\n",
    "* `bg` (ou `background`): couleur du fond\n",
    "\n",
    "Exemples de noms de couleurs:\n",
    "* white\n",
    "* black\n",
    "* red\n",
    "* green\n",
    "* blue\n",
    "* cyan\n",
    "* yellow\n",
    "\n",
    "On verra plus tard comment construire nos propres couleurs."
   ]
  },
  {
   "cell_type": "code",
   "execution_count": 13,
   "metadata": {
    "slideshow": {
     "slide_type": "subslide"
    }
   },
   "outputs": [],
   "source": [
    "import tkinter as tk\n",
    "import random as rd\n",
    "\n",
    "couleurs = [\"red\", \"green\", \"blue\", \"cyan\", \"yellow\"]\n",
    "couleur_fond = rd.choice(couleurs)\n",
    "couleurs.remove(couleur_fond)\n",
    "couleur_texte = rd.choice(couleurs)\n",
    "\n",
    "racine = tk.Tk() # Création de la fenêtre racine\n",
    "\n",
    "label = tk.Label(racine, bg=couleur_fond, fg=couleur_texte,\n",
    "                 text=\"couleur texte: \" + couleur_texte + \"\\ncouleur fond: \" + couleur_fond,\n",
    "                 padx=20, pady=20, borderwidth=5, relief=\"groove\",\n",
    "                 font = (\"helvetica\", \"30\") \n",
    "                )\n",
    "label.grid() # positionnement du premier widget\n",
    "\n",
    "racine.mainloop() # Lancement de la boucle principale"
   ]
  },
  {
   "cell_type": "markdown",
   "metadata": {
    "slideshow": {
     "slide_type": "subslide"
    }
   },
   "source": [
    "**Modifier un paramètre d'un widget**\n",
    "\n",
    "---\n",
    "Avec la méthode `.config()`\n",
    "```python\n",
    "widget.config(param=new_value)\n",
    "```"
   ]
  },
  {
   "cell_type": "code",
   "execution_count": 16,
   "metadata": {
    "slideshow": {
     "slide_type": "fragment"
    }
   },
   "outputs": [],
   "source": [
    "import tkinter as tk\n",
    "\n",
    "racine = tk.Tk() # Création de la fenêtre racine\n",
    "label = tk.Label(racine, text=\"Un texte long dans ma fenêtre\", font = (\"helvetica\", \"30\")) # création d'un widget\n",
    "label.config(text=\"autre texte\", bg=\"blue\") # modification des paramètres du widget\n",
    "label.grid() \n",
    "racine.mainloop() # Lancement de la boucle principale"
   ]
  },
  {
   "cell_type": "markdown",
   "metadata": {
    "slideshow": {
     "slide_type": "subslide"
    }
   },
   "source": [
    "**Exemple avec un widget Button**\n",
    "\n",
    "---"
   ]
  },
  {
   "cell_type": "code",
   "execution_count": 17,
   "metadata": {
    "slideshow": {
     "slide_type": "-"
    }
   },
   "outputs": [],
   "source": [
    "import tkinter as tk\n",
    "\n",
    "def affichage():\n",
    "    \"\"\" Modifie le texte d'un label. \"\"\"\n",
    "    global cpt\n",
    "    cpt += 1\n",
    "    label.config(text=\"tu as cliqué \" + str(cpt)+ \" fois\")\n",
    "\n",
    "cpt = 0\n",
    "racine = tk.Tk() # Création de la fenêtre racine\n",
    "label = tk.Label(racine, text=\"texte avant de cliquer sur le bouton\",\n",
    "                  padx=20, pady=20, font = (\"helvetica\", \"30\") \n",
    "                )\n",
    "label.grid(row=0, column=0)\n",
    "bouton = tk.Button(racine, text=\"Un bouton sur lequel cliquer\", \n",
    "                    command=affichage, font = (\"helvetica\", \"30\") \n",
    "                  ) # création du widget\n",
    "bouton.grid(row=1, column=0) # positionnement du widget\n",
    "racine.mainloop() # Lancement de la boucle principale"
   ]
  },
  {
   "cell_type": "markdown",
   "metadata": {
    "slideshow": {
     "slide_type": "-"
    }
   },
   "source": [
    "**Rappel:** l'instruction `global cpt` permet de modifier la variable globale à l'intérieur de la fonction."
   ]
  },
  {
   "cell_type": "markdown",
   "metadata": {
    "slideshow": {
     "slide_type": "subslide"
    }
   },
   "source": [
    "**Argument `command`**\n",
    "\n",
    "---\n",
    "\n",
    "Cet argument permet d'appeler une fonction quand on clique sur le bouton.\n",
    "```python\n",
    "bouton = tk.Button(racine, text=\"Un bouton sur lequel cliquer\", command=affichage)\n",
    "```\n",
    "La fonction est appelée *sans paramètres*. On appelle cela une fonction *callback*.\n",
    "\n",
    "Pour pouvoir utiliser des paramètres malgré tout, on peut utiliser une *fonction anonyme* de la manière suivante:\n",
    "```python\n",
    "command=lambda : f(x, y, z)\n",
    "```\n",
    "où `x, y` et `z` sont les arguments à passer à la fonction `f`.\n",
    "\n",
    "\n",
    "\n"
   ]
  },
  {
   "cell_type": "code",
   "execution_count": 18,
   "metadata": {
    "slideshow": {
     "slide_type": "subslide"
    }
   },
   "outputs": [],
   "source": [
    "import tkinter as tk\n",
    "\n",
    "def affichage(texte):\n",
    "    \"\"\" Modifie le texte d'un label. \"\"\"\n",
    "    label.config(text=texte)\n",
    "\n",
    "racine = tk.Tk() # Création de la fenêtre racine\n",
    "label = tk.Label(racine, text=\"\", padx=20, pady=20, font = (\"helvetica\", \"30\"))\n",
    "label.grid(row=0, column=0, columnspan=2)\n",
    "bouton1 = tk.Button(racine, text=\"affichage 1\", command=lambda : affichage(\"ils sont fous ces romains\"),\n",
    "                     font = (\"helvetica\", \"30\")\n",
    "                   ) \n",
    "bouton1.grid(row=1, column=0)\n",
    "bouton2 = tk.Button(racine, text=\"affichage 2\", \n",
    "                    command=lambda : affichage(\"quand lama faché, lui toujours faire ainsi\"),\n",
    "                    font = (\"helvetica\", \"30\") \n",
    "                   )\n",
    "bouton2.grid(row=1, column=1) \n",
    "racine.mainloop() # Lancement de la boucle principale"
   ]
  },
  {
   "cell_type": "markdown",
   "metadata": {
    "slideshow": {
     "slide_type": "fragment"
    }
   },
   "source": [
    "**Remarque:** l'argument `columnspan=2` permet de couvrir 2 colonnes de la grille dans l'appel à la méthode `label.grid()`."
   ]
  },
  {
   "cell_type": "markdown",
   "metadata": {
    "slideshow": {
     "slide_type": "slide"
    }
   },
   "source": [
    "## 4. Widget Canvas\n",
    "\n",
    "--- \n",
    "\n",
    "Widget qui permet de dessiner des formes telles que des lignes, des cercles... et de les animer. Il est utile pour créer des jeux.\n"
   ]
  },
  {
   "cell_type": "code",
   "execution_count": 19,
   "metadata": {
    "slideshow": {
     "slide_type": "-"
    }
   },
   "outputs": [],
   "source": [
    "import tkinter as tk\n",
    "\n",
    "\n",
    "racine = tk.Tk() # Création de la fenêtre racine\n",
    "canvas = tk.Canvas(racine, bg=\"red\", height=500, width=500)\n",
    "canvas.grid()\n",
    "racine.mainloop() # Lancement de la boucle principale"
   ]
  },
  {
   "cell_type": "markdown",
   "metadata": {
    "slideshow": {
     "slide_type": "subslide"
    }
   },
   "source": [
    "**Dessiner des objets dans un canevas: la ligne brisée**\n",
    "\n",
    "---"
   ]
  },
  {
   "cell_type": "code",
   "execution_count": 20,
   "metadata": {
    "slideshow": {
     "slide_type": "-"
    }
   },
   "outputs": [],
   "source": [
    "import tkinter as tk\n",
    "\n",
    "HEIGHT = 500\n",
    "WIDTH = 500\n",
    "\n",
    "racine = tk.Tk() # Création de la fenêtre racine\n",
    "canvas = tk.Canvas(racine, bg=\"red\", height=HEIGHT, width=WIDTH)\n",
    "canvas.grid()\n",
    "canvas.create_line((0, 0), (WIDTH/2, HEIGHT/2), (WIDTH, 0), fill=\"blue\", width=5)\n",
    "racine.mainloop() # Lancement de la boucle principale"
   ]
  },
  {
   "cell_type": "markdown",
   "metadata": {
    "slideshow": {
     "slide_type": "fragment"
    }
   },
   "source": [
    "**Remarques:**\n",
    "* les parenthèses autour des coordonnées `(x, y)` sont facultatives, mais rendent le code plus lisible\n",
    "* l'axe des $x$ va de gauche à droite, et celui des $y$ va de haut en bas\n",
    "* les variables `WIDTH` et `HEIGHT` jouent le rôle de constantes, et sont écrites en majuscules"
   ]
  },
  {
   "cell_type": "markdown",
   "metadata": {
    "slideshow": {
     "slide_type": "subslide"
    }
   },
   "source": [
    "**Dessiner des objets dans un canevas: l'ellipse**\n",
    "\n",
    "---\n"
   ]
  },
  {
   "cell_type": "code",
   "execution_count": 21,
   "metadata": {
    "slideshow": {
     "slide_type": "-"
    }
   },
   "outputs": [],
   "source": [
    "import tkinter as tk\n",
    "\n",
    "HEIGHT = 500\n",
    "WIDTH = 500\n",
    "\n",
    "racine = tk.Tk() # Création de la fenêtre racine\n",
    "canvas = tk.Canvas(racine, bg=\"red\", height=HEIGHT, width=WIDTH)\n",
    "canvas.grid()\n",
    "canvas.create_oval((100, 100), (400, 300), fill=\"blue\", width=5, outline=\"cyan\")\n",
    "canvas.create_rectangle((100, 100), (400, 300))\n",
    "racine.mainloop() # Lancement de la boucle principale"
   ]
  },
  {
   "cell_type": "markdown",
   "metadata": {
    "slideshow": {
     "slide_type": "fragment"
    }
   },
   "source": [
    "**Remarque:** l'appel à\n",
    "```python\n",
    "canvas.create_oval((x0, y0), (x1, y1))\n",
    "```\n",
    "dessine l'ellipse inscrite dans le rectangle aux côtés horizontaux et verticaux ayant pour sommets opposés les points de coordonnées `(x0, y0)` et `(x1, y1)`. C'est un cercle si ce rectangle est un carré."
   ]
  },
  {
   "cell_type": "markdown",
   "metadata": {
    "slideshow": {
     "slide_type": "subslide"
    }
   },
   "source": [
    "**Manipulation des objets dessinés**\n",
    "\n",
    "---\n",
    "\n",
    "* en plus des lignes et des ellipses, le widget canvas permet de dessiner des polygones, des arcs de cercles.\n",
    "* les méthodes `.create_objet()` renvoient l'identifiant de l'objet qui a été créé. Des méthodes du canvas peuvent ensuite modifier l'objet grâce à son identifiant.\n"
   ]
  },
  {
   "cell_type": "code",
   "execution_count": 22,
   "metadata": {
    "slideshow": {
     "slide_type": "fragment"
    }
   },
   "outputs": [],
   "source": [
    "import tkinter as tk\n",
    "\n",
    "HEIGHT = 500\n",
    "WIDTH = 500\n",
    "\n",
    "def bouge_cercle():\n",
    "    canvas.move(cercle, 50, 50) # méthode qui déplace l'objet cercle\n",
    "\n",
    "racine = tk.Tk() # Création de la fenêtre racine\n",
    "bouton = tk.Button(text=\"déplace cercle\", \n",
    "                    command=bouge_cercle, font = (\"Helvetica\", \"30\")\n",
    "                  )\n",
    "bouton.grid(column=0, row=1)\n",
    "canvas = tk.Canvas(racine, bg=\"red\", height=HEIGHT, width=WIDTH)\n",
    "canvas.grid(column=0, row=0)\n",
    "# on récupère l'identifiant du cercle:\n",
    "cercle = canvas.create_oval((100, 100), (300, 300), fill=\"blue\", width=5, outline=\"cyan\") \n",
    "racine.mainloop() # Lancement de la boucle principale"
   ]
  },
  {
   "cell_type": "markdown",
   "metadata": {
    "slideshow": {
     "slide_type": "subslide"
    }
   },
   "source": [
    "**Couleurs**\n",
    "\n",
    "---\n",
    "\n",
    "Comme on l'a vu, certaines couleurs sont déjà prédéfinies.\n",
    "\n",
    "![](800px-TkInterColorCharts.png)\n",
    "\n",
    "Extrait de `http://stackoverflow.com/questions/4969543/colour-chart-for-tkinter-and-tix-using-python`"
   ]
  },
  {
   "cell_type": "markdown",
   "metadata": {},
   "source": [
    "**Remarque:** on aurait pu utiliser les champs de saisie pour récupérer les valeurs choisies par l'utilisateur dans la fenêtre graphique. Mais leur utilisation est plus complexe."
   ]
  }
 ],
 "metadata": {
  "celltoolbar": "Diaporama",
  "kernelspec": {
   "display_name": "Python 3",
   "language": "python",
   "name": "python3"
  },
  "language_info": {
   "codemirror_mode": {
    "name": "ipython",
    "version": 3
   },
   "file_extension": ".py",
   "mimetype": "text/x-python",
   "name": "python",
   "nbconvert_exporter": "python",
   "pygments_lexer": "ipython3",
   "version": "3.9.1"
  },
  "toc": {
   "base_numbering": 1,
   "nav_menu": {},
   "number_sections": false,
   "sideBar": false,
   "skip_h1_title": false,
   "title_cell": "Table of Contents",
   "title_sidebar": "Contents",
   "toc_cell": false,
   "toc_position": {},
   "toc_section_display": false,
   "toc_window_display": false
  }
 },
 "nbformat": 4,
 "nbformat_minor": 1
}
