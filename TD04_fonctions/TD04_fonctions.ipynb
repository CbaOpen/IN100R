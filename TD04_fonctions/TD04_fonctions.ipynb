{
 "cells": [
  {
   "cell_type": "markdown",
   "metadata": {},
   "source": [
    "---\n",
    "\n",
    "## Les fonctions"
   ]
  },
  {
   "cell_type": "markdown",
   "metadata": {},
   "source": [
    "**Exercice 1:** *Puissance maximale*\n",
    "\n",
    "La fonction `math.pow(x,y)` permet de calculer x^y. Reprogrammer une fonction `calc_puissance(x,y)` qui renvoie x^y en utilisant l’opérateur `**`. \n",
    "\n",
    "Dans le programme principal, calculez et affichez à l’écran 2^i avec `i` variant de 0 à 20. On veut que le résultat soit présenté avec le formatage suivant :\n",
    "```\n",
    "2^0 = 1\n",
    "2^1 = 2\n",
    "2^2 = 4\n",
    "[...]\n",
    "2^20 = 1048576\n",
    "```"
   ]
  },
  {
   "cell_type": "code",
   "execution_count": null,
   "metadata": {},
   "outputs": [],
   "source": []
  },
  {
   "cell_type": "markdown",
   "metadata": {},
   "source": [
    "**Exercice 2:** *Premier tu resteras*\n",
    "\n",
    "On souhaite créer un programme qui calcule si un nombre entier `n` est premier ou non.\n",
    "\n",
    "1) Créez une fonction `est_premier(n)` qui détermine si `n` est premier. La fonction renverra `True` si `n` est premier et `False` sinon.\n",
    "\n",
    "*Note 1 : un entier `n` est premier si et seulement s'il est divisible uniquement par 1 et lui-même. Il faut donc vérifier qu'il N'EST PAS divisible par les entiers compris entre 1 et `n` (bornes exclues). Dans les faits il suffit de tester les entiers entre 1 et sqrt(n) (1 exclus, et sqrt(n) inclus)*\n",
    "\n",
    "*Note 2 : on peut calculer la racine carré d'un nombre de 2 manières : `n**0.5` ou `math.sqrt(n)` en important le package `math`. Il serait interessant d'utiliser la fonction `calc_puissance(x,y)` créée dans l'exercice précédent ;-)*\n",
    "\n",
    "2) Déterminez tous les nombres premiers de 2 à 100. On souhaite avoir une sortie comme ça :\n",
    "```\n",
    "2 est premier\n",
    "3 est premier\n",
    "4 n'est pas premier\n",
    "[...]\n",
    "10 n'est pas premier\n",
    "[...]\n",
    "100 n'est pas premier\n",
    "```"
   ]
  },
  {
   "cell_type": "code",
   "execution_count": null,
   "metadata": {},
   "outputs": [],
   "source": []
  },
  {
   "cell_type": "markdown",
   "metadata": {},
   "source": [
    "**Exercice 3:** *Un peu de bio... la suite*\n",
    "\n",
    "Reprenez l’exercice 2 du TD03.\n",
    "\n",
    "Créez une fonction `complement()` qui prend en argument une liste de bases et qui renvoie la séquence complémentaire d’une séquence d’ADN sous forme de liste.\n",
    "\n",
    "Dans le programme principal, à partir d’une séquence d’ADN `seq = ['A', 'T', 'C', 'G', 'A', 'T', 'C', 'G', 'A', 'T', 'C', 'G', 'C', 'T', 'G', 'C', 'T', 'A', 'G', 'C']` sur le brin principal, affichez `seq` et sa séquence complémentaire (en utilisant votre fonction `complement()`). On souhaite avoir une sortie comme suit :\n",
    "```\n",
    "brin direct : 5'-XXXXXXXXX-3'\n",
    "brin complémentaire: 3'-XXXXXXXXX-5'\n",
    "Les 5' et 3' indique le sens de lecture, et les X représentent les bases A, T, G ou C.\n",
    "```"
   ]
  },
  {
   "cell_type": "code",
   "execution_count": null,
   "metadata": {},
   "outputs": [],
   "source": []
  },
  {
   "cell_type": "markdown",
   "metadata": {},
   "source": [
    "**Exercice 4:** *Dessine moi un triangle ! encore !*\n",
    "\n",
    "Reprenez l’exercice 8 du TD03 qui dessine un triangle isocèle. \n",
    "\n",
    "Concevez une fonction `gen_pyramide()` à laquelle vous passez en argument un nombre entier N et qui renvoie une pyramide de N lignes (i.e. triangle isocèle) sous forme de chaîne de caractères. Le programme principal demandera à l’utilisateur le nombre de lignes souhaitées (pensez à la fonction `input()` !) et affichera la pyramide à l’écran.\n"
   ]
  },
  {
   "cell_type": "code",
   "execution_count": null,
   "metadata": {},
   "outputs": [],
   "source": []
  },
  {
   "cell_type": "markdown",
   "metadata": {},
   "source": [
    "**Exercice 5:** *Pierre, Papier, ciseaux ! La suite !*\n",
    "\n",
    "Reprenez l'exercie 5 du TD02 qui permet de jouer à pierre, papier, ciseaux entre deux joueurs. \n",
    "\n",
    "1) Concevez une fonction `jouer()` qui ne prend rien en argument et ne renvoie rien. Dans cette fonction, le programme demande le choix des deux joueurs puis calcule qui a gagné.\n",
    "2) Dans le programme principal, appelez cette fonction dans une boucle `while` qui s'exécute tant que les joueurs veulent continuer à jouer. On pourra s'inspirer de l'étape bonus de l'exercice 5 du TD03 (*Trouve le nombre*).\n",
    "3) Créer une une fonction `gagne(joueur1, joueur2)` qui renvoie `True` si `joueur1` a gagné  et `False` si `joueur2` a gagné. Adaptez la fonction `jouer()` pour y inclure l'appel à la fonction `gagne(joueur1, joueur2)`."
   ]
  },
  {
   "cell_type": "code",
   "execution_count": null,
   "metadata": {},
   "outputs": [],
   "source": []
  },
  {
   "cell_type": "markdown",
   "metadata": {},
   "source": [
    "**Exercice 6:** *Pierre, Papier, ciseaux vs ordinateur !*\n",
    "\n",
    "Reprenez l'exercie précédent. \n",
    "\n",
    "Adaptez le code pour que l'utilisateur joue contre l'ordianteur. Utilisez la fonction `random.choice(['r','p', 'c'])` pour déterminer ce que jouera l'ordinateur (n'oubliez pas d'importer le package `random` au début).\n",
    "\n",
    "*Note 1 : On peut modifier le nom de la fonction `jouer()` par `jouer_vs_ordi()` par exemple.*\n",
    "\n",
    "*Note 2 : Ne pas copier-coller la fonction `gagne(joueur1, joueur2)`, elle est déjà définie dans l'exercice précédent !!*"
   ]
  },
  {
   "cell_type": "code",
   "execution_count": null,
   "metadata": {},
   "outputs": [],
   "source": []
  },
  {
   "cell_type": "markdown",
   "metadata": {},
   "source": [
    "**Exercice 7:** *Distance entre 2 séquences*\n",
    "\n",
    "La distance séparant deux séquences est définie comme le nombre moyen de substitution qui s’est produit depuis que ces deux séquences ont divergé de leur ancêtre commun.\n",
    "\n",
    "Une manière très simple de définir cette divergence est avec ce qu'on appelle la *p-distance* : On compte le nombre `s` de substitutions observées entre deux séquences alignées que l’on rapporte au nombre de sites homologues `n` alignés, donc : `p=s/n`. La *p-distance* est facile à calculer mais quand les\n",
    "séquences ne sont pas proches (issues d’organismes distants dans l’évolution), elle sous-estime les distances évolutives. Par exemple, l’existence de substitutions multiples (c'est-à-dire une même base qui est substituée plusieurs fois au cours de l'évolution) est un phénomène plus critique pour les séquences d’acides nucléiques car elles possèdent un alphabet plus pauvre que les séquences protéiques (4 lettres au lieu de 20). Cette méthode ne permet pas d'estimer les substitutions multiples.\n",
    "\n",
    "On veut calculer la *p-distance* entre deux séquences : `seqA` et `seqB` :\n",
    "1) Créez une fonction `nb_substitutions()` qui prend en argument deux séquences, compte le nombre de bases différentes pour une même position et renvoie ce nombre.\n",
    "2) Créez une fonction `nb_homologues()` qui prend en argument deux séquences, compte le nombre de bases identiques pour une même position et renvoie ce nombre.\n",
    "3) Créez une fonction `p_distance()` qui prend en argument deux séquences, calcule `p=s/n` et renvoie `p`. Vous ferez appelle aux fonctions `nb_substitutions()` et `nb_homologues()`\n",
    "3) Dans le programme principal, créez 2 séquences et appelez la fonction `p_distance()`. Le programme doit afficher \"la distance entre les deux séquences est {p}\".\n",
    "\n",
    "Exemple de séquences :\n",
    "```\n",
    "seqA = ['A', 'T', 'C', 'G', 'A', 'T', 'C', 'G', 'A', 'T', 'C', 'G', 'C', 'T', 'G', 'C', 'T', 'A', 'G', 'C']\n",
    "seqB = ['A', 'T', 'A', 'G', 'A', 'T', 'C', 'G', 'A', 'C', 'T', 'G', 'C', 'T', 'C', 'G', 'G', 'A', 'G', 'C']\n",
    "```"
   ]
  },
  {
   "cell_type": "code",
   "execution_count": null,
   "metadata": {},
   "outputs": [],
   "source": []
  }
 ],
 "metadata": {
  "kernelspec": {
   "display_name": "Python 3",
   "language": "python",
   "name": "python3"
  },
  "language_info": {
   "codemirror_mode": {
    "name": "ipython",
    "version": 3
   },
   "file_extension": ".py",
   "mimetype": "text/x-python",
   "name": "python",
   "nbconvert_exporter": "python",
   "pygments_lexer": "ipython3",
   "version": "3.9.1"
  }
 },
 "nbformat": 4,
 "nbformat_minor": 2
}
